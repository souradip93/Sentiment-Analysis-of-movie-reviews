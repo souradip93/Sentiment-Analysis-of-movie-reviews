{
  "nbformat": 4,
  "nbformat_minor": 0,
  "metadata": {
    "colab": {
      "name": "Assignment9A.ipynb",
      "version": "0.3.2",
      "provenance": [],
      "toc_visible": true,
      "include_colab_link": true
    },
    "kernelspec": {
      "name": "python3",
      "display_name": "Python 3"
    },
    "accelerator": "GPU"
  },
  "cells": [
    {
      "cell_type": "markdown",
      "metadata": {
        "id": "view-in-github",
        "colab_type": "text"
      },
      "source": [
        "<a href=\"https://colab.research.google.com/github/souradip93/CS69002_9A_18CS60R07/blob/master/Assignment9A.ipynb\" target=\"_parent\"><img src=\"https://colab.research.google.com/assets/colab-badge.svg\" alt=\"Open In Colab\"/></a>"
      ]
    },
    {
      "metadata": {
        "id": "O0K36BR3ZPSi",
        "colab_type": "text"
      },
      "cell_type": "markdown",
      "source": [
        "# **Import the libraries**"
      ]
    },
    {
      "metadata": {
        "id": "BesUUps3M_7o",
        "colab_type": "code",
        "colab": {}
      },
      "cell_type": "code",
      "source": [
        "import torch\n",
        "import pandas as pd\n",
        "import numpy as np\n",
        "import io\n",
        "import nltk\n",
        "import re"
      ],
      "execution_count": 0,
      "outputs": []
    },
    {
      "metadata": {
        "id": "-dDx9g4CZqjN",
        "colab_type": "text"
      },
      "cell_type": "markdown",
      "source": [
        "# **Upload Train file**"
      ]
    },
    {
      "metadata": {
        "id": "zhHOa6nOSu0D",
        "colab_type": "text"
      },
      "cell_type": "markdown",
      "source": [
        "Option 1 - Upload the trainig dataset"
      ]
    },
    {
      "metadata": {
        "id": "D97pCVdLS04m",
        "colab_type": "code",
        "colab": {}
      },
      "cell_type": "code",
      "source": [
        "from google.colab import files\n",
        "uploaded = files.upload()\n",
        "df_train = pd.read_csv(io.StringIO(uploaded['Train_20K.txt'].decode('utf-8')), sep='\\t')\n",
        "df_train.head()\n",
        "\n",
        "\n",
        "uploaded = files.upload()\n",
        "df_test = pd.read_csv(io.StringIO(uploaded['Test_5K.txt'].decode('utf-8')), sep='\\t')\n",
        "df_test.head()"
      ],
      "execution_count": 0,
      "outputs": []
    },
    {
      "metadata": {
        "id": "M4bkGwjqS4LP",
        "colab_type": "text"
      },
      "cell_type": "markdown",
      "source": [
        "*OR*\n",
        "\n",
        "Option 2 - Store the file in your google drive account"
      ]
    },
    {
      "metadata": {
        "id": "XgJRhFGl9Gad",
        "colab_type": "code",
        "colab": {
          "base_uri": "https://localhost:8080/",
          "height": 241
        },
        "outputId": "9d235691-dadc-47d7-9206-aa3bbe49b756"
      },
      "cell_type": "code",
      "source": [
        "from google.colab import drive\n",
        "drive.mount('/content/drive')\n",
        "df_train = pd.read_csv('/content/drive/My Drive/Colab Notebooks/data/Train_20K.txt', sep='\\t')\n",
        "df_train.head()\n",
        "df_test = pd.read_csv('/content/drive/My Drive/Colab Notebooks/data/Test_5K.txt', sep='\\t')\n",
        "df_test.head()"
      ],
      "execution_count": 100,
      "outputs": [
        {
          "output_type": "stream",
          "text": [
            "Drive already mounted at /content/drive; to attempt to forcibly remount, call drive.mount(\"/content/drive\", force_remount=True).\n"
          ],
          "name": "stdout"
        },
        {
          "output_type": "execute_result",
          "data": {
            "text/html": [
              "<div>\n",
              "<style scoped>\n",
              "    .dataframe tbody tr th:only-of-type {\n",
              "        vertical-align: middle;\n",
              "    }\n",
              "\n",
              "    .dataframe tbody tr th {\n",
              "        vertical-align: top;\n",
              "    }\n",
              "\n",
              "    .dataframe thead th {\n",
              "        text-align: right;\n",
              "    }\n",
              "</style>\n",
              "<table border=\"1\" class=\"dataframe\">\n",
              "  <thead>\n",
              "    <tr style=\"text-align: right;\">\n",
              "      <th></th>\n",
              "      <th>text</th>\n",
              "      <th>label</th>\n",
              "    </tr>\n",
              "  </thead>\n",
              "  <tbody>\n",
              "    <tr>\n",
              "      <th>0</th>\n",
              "      <td>as always this is an inaccurate picture of the...</td>\n",
              "      <td>0</td>\n",
              "    </tr>\n",
              "    <tr>\n",
              "      <th>1</th>\n",
              "      <td>Did the movie-makers even preview this before ...</td>\n",
              "      <td>0</td>\n",
              "    </tr>\n",
              "    <tr>\n",
              "      <th>2</th>\n",
              "      <td>Heavily re-edited and often confusing, the ori...</td>\n",
              "      <td>0</td>\n",
              "    </tr>\n",
              "    <tr>\n",
              "      <th>3</th>\n",
              "      <td>I notice that most of the people who think thi...</td>\n",
              "      <td>0</td>\n",
              "    </tr>\n",
              "    <tr>\n",
              "      <th>4</th>\n",
              "      <td>First of all, this is a low-budget movie, so m...</td>\n",
              "      <td>0</td>\n",
              "    </tr>\n",
              "  </tbody>\n",
              "</table>\n",
              "</div>"
            ],
            "text/plain": [
              "                                                text  label\n",
              "0  as always this is an inaccurate picture of the...      0\n",
              "1  Did the movie-makers even preview this before ...      0\n",
              "2  Heavily re-edited and often confusing, the ori...      0\n",
              "3  I notice that most of the people who think thi...      0\n",
              "4  First of all, this is a low-budget movie, so m...      0"
            ]
          },
          "metadata": {
            "tags": []
          },
          "execution_count": 100
        }
      ]
    },
    {
      "metadata": {
        "id": "OcrHdv2VQ2Qu",
        "colab_type": "code",
        "colab": {}
      },
      "cell_type": "code",
      "source": [
        "train_data_X = df_train['text'].astype(str).tolist()\n",
        "train_data_Y = df_train['label'].astype(int)"
      ],
      "execution_count": 0,
      "outputs": []
    },
    {
      "metadata": {
        "id": "Tisd3JloqbOY",
        "colab_type": "code",
        "colab": {}
      },
      "cell_type": "code",
      "source": [
        "test_data_X = df_test['text'].astype(str).tolist()\n",
        "test_data_Y = df_test['label'].astype(int)"
      ],
      "execution_count": 0,
      "outputs": []
    },
    {
      "metadata": {
        "id": "1cYXFJtETb0a",
        "colab_type": "text"
      },
      "cell_type": "markdown",
      "source": [
        "# **Preprocessing**"
      ]
    },
    {
      "metadata": {
        "id": "kECKJFLbTrD-",
        "colab_type": "text"
      },
      "cell_type": "markdown",
      "source": [
        "1. Remove br tags and numbers"
      ]
    },
    {
      "metadata": {
        "id": "akSG_F8yWKh_",
        "colab_type": "code",
        "colab": {}
      },
      "cell_type": "code",
      "source": [
        "def remove_br_tags_and_numbers(train_data_X):\n",
        "  import re\n",
        "  regex = re.compile(r'<br.*?>|\\d+')\n",
        "  train_data_X = [regex.sub(' ', x) for x in train_data_X]\n",
        "  return train_data_X"
      ],
      "execution_count": 0,
      "outputs": []
    },
    {
      "metadata": {
        "id": "fhOfwbIkTzUn",
        "colab_type": "text"
      },
      "cell_type": "markdown",
      "source": [
        "2. Tokenize - Consider only alphanumeric characters"
      ]
    },
    {
      "metadata": {
        "id": "-8dXaj3SQyWO",
        "colab_type": "code",
        "colab": {}
      },
      "cell_type": "code",
      "source": [
        "\n",
        "def tokenize(train_data_X):\n",
        "  #from nltk.tokenize import RegexpTokenizer\n",
        "  #tokenizer = RegexpTokenizer(r'\\w+')\n",
        "  #train_data_X = [tokenizer.tokenize(x) for x in train_data_X]\n",
        "  train_data_X = [x.split(' ') for x in train_data_X]\n",
        "  train_data_X = [[y for y in x if y != ''] for x in train_data_X]\n",
        "  #train_data_X[0], train_data_Y[0]\n",
        "  return train_data_X\n"
      ],
      "execution_count": 0,
      "outputs": []
    },
    {
      "metadata": {
        "id": "J-158l3wT9D_",
        "colab_type": "text"
      },
      "cell_type": "markdown",
      "source": [
        "3. Convert to lower case"
      ]
    },
    {
      "metadata": {
        "id": "lLLIjYb5Qc9_",
        "colab_type": "code",
        "colab": {}
      },
      "cell_type": "code",
      "source": [
        "def convert_to_lower(train_data_X):\n",
        "  train_data_X = [[y.lower() for y in x] for x in train_data_X]\n",
        "  #train_data_X[0], train_data_Y[0]\n",
        "  return train_data_X"
      ],
      "execution_count": 0,
      "outputs": []
    },
    {
      "metadata": {
        "id": "1d2fjmatUAqV",
        "colab_type": "text"
      },
      "cell_type": "markdown",
      "source": [
        "4. Remove stopwords"
      ]
    },
    {
      "metadata": {
        "id": "i0bZVBGlX5TF",
        "colab_type": "code",
        "colab": {}
      },
      "cell_type": "code",
      "source": [
        "def remove_stopwords(train_data_X):\n",
        "  from nltk.corpus import stopwords\n",
        "  nltk.download('stopwords')\n",
        "  stopword_set = set(stopwords.words('english'))\n",
        "  train_data_X = [[y for y in x if y not in stopword_set] for x in train_data_X]\n",
        "  #train_data_X[0], train_data_Y[0]\n",
        "  return train_data_X"
      ],
      "execution_count": 0,
      "outputs": []
    },
    {
      "metadata": {
        "id": "iM9RmpYmUDXC",
        "colab_type": "text"
      },
      "cell_type": "markdown",
      "source": [
        "5. Perform lemmatization"
      ]
    },
    {
      "metadata": {
        "id": "Zc3IRBb5bNo4",
        "colab_type": "code",
        "colab": {}
      },
      "cell_type": "code",
      "source": [
        "def lemmatize(train_data_X):\n",
        "  from nltk.stem import WordNetLemmatizer \n",
        "  nltk.download('wordnet')\n",
        "  lemmatizer = WordNetLemmatizer()\n",
        "  train_data_X = [[lemmatizer.lemmatize(y) for y in x] for x in train_data_X]\n",
        "  return train_data_X"
      ],
      "execution_count": 0,
      "outputs": []
    },
    {
      "metadata": {
        "id": "3Bh0ZpU-rY8L",
        "colab_type": "code",
        "colab": {}
      },
      "cell_type": "code",
      "source": [
        "def remove_punctuation(train_data_X):\n",
        "  import string\n",
        "  table = str.maketrans(' ', ' ', string.punctuation)\n",
        "  train_data_X = [x.translate(table) for x in train_data_X]\n",
        "  return train_data_X"
      ],
      "execution_count": 0,
      "outputs": []
    },
    {
      "metadata": {
        "id": "bc293MWsU5C7",
        "colab_type": "text"
      },
      "cell_type": "markdown",
      "source": [
        "**Preprocessing on Training data**"
      ]
    },
    {
      "metadata": {
        "id": "lod_N-s9itSe",
        "colab_type": "code",
        "colab": {
          "base_uri": "https://localhost:8080/",
          "height": 85
        },
        "outputId": "de57d6bf-8e76-4c0e-cbed-0f6b7d913f41"
      },
      "cell_type": "code",
      "source": [
        "train_data_X = remove_br_tags_and_numbers(train_data_X)\n",
        "train_data_X = remove_punctuation(train_data_X)\n",
        "train_data_X = tokenize(train_data_X)\n",
        "train_data_X = convert_to_lower(train_data_X)\n",
        "train_data_X = remove_stopwords(train_data_X)\n",
        "train_data_X = lemmatize(train_data_X)"
      ],
      "execution_count": 117,
      "outputs": [
        {
          "output_type": "stream",
          "text": [
            "[nltk_data] Downloading package stopwords to /root/nltk_data...\n",
            "[nltk_data]   Package stopwords is already up-to-date!\n",
            "[nltk_data] Downloading package wordnet to /root/nltk_data...\n",
            "[nltk_data]   Package wordnet is already up-to-date!\n"
          ],
          "name": "stdout"
        }
      ]
    },
    {
      "metadata": {
        "id": "Fip3k6R2VAOS",
        "colab_type": "text"
      },
      "cell_type": "markdown",
      "source": [
        "**Preprocessing on Test data**"
      ]
    },
    {
      "metadata": {
        "id": "58o-WKWaTBnL",
        "colab_type": "code",
        "colab": {
          "base_uri": "https://localhost:8080/",
          "height": 85
        },
        "outputId": "1d03a94c-807a-4e30-b8ca-43f77878f2c8"
      },
      "cell_type": "code",
      "source": [
        "test_data_X = remove_br_tags_and_numbers(test_data_X)\n",
        "test_data_X = remove_punctuation(test_data_X)\n",
        "test_data_X = tokenize(test_data_X)\n",
        "test_data_X = convert_to_lower(test_data_X)\n",
        "test_data_X = remove_stopwords(test_data_X)\n",
        "test_data_X = lemmatize(test_data_X)"
      ],
      "execution_count": 120,
      "outputs": [
        {
          "output_type": "stream",
          "text": [
            "[nltk_data] Downloading package stopwords to /root/nltk_data...\n",
            "[nltk_data]   Package stopwords is already up-to-date!\n",
            "[nltk_data] Downloading package wordnet to /root/nltk_data...\n",
            "[nltk_data]   Package wordnet is already up-to-date!\n"
          ],
          "name": "stdout"
        }
      ]
    },
    {
      "metadata": {
        "id": "FW5yVYrTVIMz",
        "colab_type": "text"
      },
      "cell_type": "markdown",
      "source": [
        "#**Reduce Vocab**"
      ]
    },
    {
      "metadata": {
        "id": "sSTOY6tBQmDI",
        "colab_type": "code",
        "colab": {}
      },
      "cell_type": "code",
      "source": [
        "def generate_word_frequency(dataset):\n",
        "  word_frequency = {}\n",
        "  for sent in dataset:\n",
        "      for word in sent:\n",
        "          if word not in word_frequency:\n",
        "              word_frequency[word] = 1\n",
        "          else:\n",
        "              val = word_frequency[word]\n",
        "              val += 1\n",
        "              word_frequency[word] = val\n",
        "              \n",
        "  #word_to_ix['UNKNOWN'] = len(word_to_ix)\n",
        "  return word_frequency"
      ],
      "execution_count": 0,
      "outputs": []
    },
    {
      "metadata": {
        "id": "ceaiZIgr6ilO",
        "colab_type": "code",
        "colab": {}
      },
      "cell_type": "code",
      "source": [
        "THRESHOLD_FREQUENCY = 10\n",
        "\n",
        "def reduce_vocab(word_frequency):\n",
        "  word_to_ix = {}\n",
        "  for word in word_frequency:\n",
        "    val = word_frequency[word]\n",
        "    if val >= THRESHOLD_FREQUENCY:\n",
        "      word_to_ix[word] = len(word_to_ix)\n",
        "  word_to_ix['UNKNOWN'] = len(word_to_ix)\n",
        "  return word_to_ix"
      ],
      "execution_count": 0,
      "outputs": []
    },
    {
      "metadata": {
        "id": "ZN2SRkFjTosC",
        "colab_type": "code",
        "outputId": "073c77da-554e-432b-fda1-69cdfc41de21",
        "colab": {
          "base_uri": "https://localhost:8080/",
          "height": 34
        }
      },
      "cell_type": "code",
      "source": [
        "word_frequency = generate_word_frequency(train_data_X + test_data_X)\n",
        "word_to_ix = reduce_vocab(word_frequency)\n",
        "\n",
        "VOCAB_SIZE = len(word_to_ix)\n",
        "print(VOCAB_SIZE)"
      ],
      "execution_count": 122,
      "outputs": [
        {
          "output_type": "stream",
          "text": [
            "17254\n"
          ],
          "name": "stdout"
        }
      ]
    },
    {
      "metadata": {
        "id": "3gmilFZDYnvp",
        "colab_type": "text"
      },
      "cell_type": "markdown",
      "source": [
        "Store the word index once created"
      ]
    },
    {
      "metadata": {
        "id": "TuMDtUxDW_f_",
        "colab_type": "code",
        "colab": {}
      },
      "cell_type": "code",
      "source": [
        "import pickle\n",
        "\n",
        "pickle_out = open(\"word_to_ix.pickle\",\"wb\")\n",
        "pickle.dump(word_to_ix, pickle_out)\n",
        "pickle_out.close()\n",
        "\n",
        "from google.colab import files\n",
        "model = files.download(\"word_to_ix.pickle\")\n"
      ],
      "execution_count": 0,
      "outputs": []
    },
    {
      "metadata": {
        "id": "NSxdwxYkVhGi",
        "colab_type": "text"
      },
      "cell_type": "markdown",
      "source": [
        "Irrelevant for this Task. Remove it later"
      ]
    },
    {
      "metadata": {
        "id": "kazPiVAVXN8w",
        "colab_type": "code",
        "colab": {
          "base_uri": "https://localhost:8080/",
          "height": 34
        },
        "outputId": "387752bb-c127-4de3-e3ec-d2d7ff042ee5"
      },
      "cell_type": "code",
      "source": [
        "label_to_ix = {1: 1, 0: 0}\n",
        "ix_to_label = {v: k for k, v in label_to_ix.items()}\n",
        "\n",
        "label_to_ix, ix_to_label"
      ],
      "execution_count": 124,
      "outputs": [
        {
          "output_type": "execute_result",
          "data": {
            "text/plain": [
              "({0: 0, 1: 1}, {0: 0, 1: 1})"
            ]
          },
          "metadata": {
            "tags": []
          },
          "execution_count": 124
        }
      ]
    },
    {
      "metadata": {
        "id": "jz4FQIi9Vprm",
        "colab_type": "text"
      },
      "cell_type": "markdown",
      "source": [
        "#**Pytorch initialization**"
      ]
    },
    {
      "metadata": {
        "id": "gam4OsAEaAYZ",
        "colab_type": "code",
        "colab": {
          "base_uri": "https://localhost:8080/",
          "height": 34
        },
        "outputId": "b5aff213-f4f2-48ed-9aab-e7d0df725c3a"
      },
      "cell_type": "code",
      "source": [
        "import torch.nn as nn\n",
        "import torch.nn.functional as F\n",
        "\n",
        "SEED = 42\n",
        "\n",
        "torch.manual_seed(SEED)\n",
        "torch.cuda.manual_seed(SEED)\n",
        "torch.device('cuda')\n",
        "\n"
      ],
      "execution_count": 126,
      "outputs": [
        {
          "output_type": "execute_result",
          "data": {
            "text/plain": [
              "device(type='cuda')"
            ]
          },
          "metadata": {
            "tags": []
          },
          "execution_count": 126
        }
      ]
    },
    {
      "metadata": {
        "id": "cm5Quj5MWMWT",
        "colab_type": "text"
      },
      "cell_type": "markdown",
      "source": [
        "#**Create bow vectors**"
      ]
    },
    {
      "metadata": {
        "id": "EkTB1W04rzlI",
        "colab_type": "code",
        "colab": {}
      },
      "cell_type": "code",
      "source": [
        "from torch.autograd import Variable\n",
        "import time\n",
        "\n",
        "def make_bow_vector(sentence, word_to_ix):\n",
        "    # create a vector of zeros of vocab size = len(word_to_idx)\n",
        "    vec = torch.zeros(len(word_to_ix))\n",
        "    for word in sentence:\n",
        "        if word not in word_to_ix:\n",
        "            #raise ValueError('Word',word,' not present in the dictionary. Sorry!')\n",
        "            vec[ word_to_ix['UNKNOWN'] ] += 1\n",
        "        else:\n",
        "            vec[word_to_ix[word]]+=1\n",
        "    return vec.view(1, -1)\n",
        "\n",
        "def make_target(label, label_to_ix):\n",
        "    #print(label)\n",
        "    return torch.LongTensor([label_to_ix[label]])\n",
        "\n",
        "bow_vec_orig = []\n",
        "for instance in train_data_X:\n",
        "  ins_bow_vector = make_bow_vector(instance, word_to_ix)\n",
        "  bow_vec_orig.append(Variable(ins_bow_vector).cuda())\n",
        "  \n",
        "label_orig = []\n",
        "for l in train_data_Y:\n",
        "  label_vector = make_target(l, label_to_ix)\n",
        "  label_orig.append(Variable(label_vector).cuda())"
      ],
      "execution_count": 0,
      "outputs": []
    },
    {
      "metadata": {
        "id": "xk74JKQguSEz",
        "colab_type": "text"
      },
      "cell_type": "markdown",
      "source": [
        "#**Functions to train model and find metrics**"
      ]
    },
    {
      "metadata": {
        "id": "AaSZzouOuaMn",
        "colab_type": "code",
        "colab": {}
      },
      "cell_type": "code",
      "source": [
        "def train(task, loss_function, opt):\n",
        "  bow_vec = bow_vec_orig[:]\n",
        "  label = label_orig[:]\n",
        "  # the training loop\n",
        "  for epoch in range(10):\n",
        "      start = time.time()\n",
        "      for ind, instance in enumerate(train_data_X):\n",
        "          task.zero_grad()\n",
        "          probs = task(bow_vec[ind]) # forward pass\n",
        "          loss = loss_function(probs, label[ind])\n",
        "          loss.backward()\n",
        "          opt.step()\n",
        "      end = time.time()\n",
        "      print('Time Taken - ' + str(end - start))\n",
        "      print('Epoch - ' + str(epoch) + ' , LOSS - ' + str(loss.data))\n",
        "  return task\n",
        "      \n",
        "def calculateMetrics(task):\n",
        "  print('--- AFTER TRAINING ---')\n",
        "  tp = 0\n",
        "  tn = 0\n",
        "  fp = 0\n",
        "  fn = 0\n",
        "\n",
        "  for ind, instance in enumerate(test_data_X):\n",
        "      bow_vec = Variable(make_bow_vector(instance, word_to_ix)).cuda()\n",
        "      logprobs = task(bow_vec)\n",
        "      pred = np.argmax(logprobs.cpu().data.numpy())\n",
        "      label = test_data_Y[ind]\n",
        "      if label == 1 and ix_to_label[pred] == 1:\n",
        "        tp += 1\n",
        "      elif label == 1 and ix_to_label[pred] == 0:\n",
        "        fn += 1\n",
        "      elif label == 0 and ix_to_label[pred] == 0:\n",
        "        tn += 1\n",
        "      else:\n",
        "        fp += 1\n",
        "\n",
        "  print('Accuracy - ' + str(float(tp+tn)/ len(test_data_X)))\n",
        "  print('Recall - ' + str(float(tp)/ (tp+fn)))\n",
        "  print('Precision - ' + str(float(tp)/ (tp+fp)))\n",
        "  \n",
        "def save_model(task, name):\n",
        "  import torch\n",
        "  torch.save(task,name)\n",
        "\n",
        "  from google.colab import files\n",
        "  model = files.download(name)"
      ],
      "execution_count": 0,
      "outputs": []
    },
    {
      "metadata": {
        "id": "M35VUK3sWyiV",
        "colab_type": "text"
      },
      "cell_type": "markdown",
      "source": [
        "#**Neural network for Task 1**"
      ]
    },
    {
      "metadata": {
        "id": "644dEiuvcWgi",
        "colab_type": "code",
        "colab": {}
      },
      "cell_type": "code",
      "source": [
        "class Task1(nn.Module):\n",
        "  def __init__(self, num_labels, hidden_layer_neurons, vocab_size):\n",
        "    super(Task1, self).__init__()\n",
        "    self.lin1 = nn.Linear(vocab_size, hidden_layer_neurons)\n",
        "    self.lin2 = nn.Linear(hidden_layer_neurons, num_labels)\n",
        "    \n",
        "  def forward(self, x):\n",
        "    out = self.lin1(x)\n",
        "    return F.softmax(self.lin2(out))"
      ],
      "execution_count": 0,
      "outputs": []
    },
    {
      "metadata": {
        "id": "AUTGZVOlXpQq",
        "colab_type": "text"
      },
      "cell_type": "markdown",
      "source": [
        "Setting model parameters for Task 1 A"
      ]
    },
    {
      "metadata": {
        "id": "J6sPZeBWXoFl",
        "colab_type": "code",
        "colab": {}
      },
      "cell_type": "code",
      "source": [
        "NUM_LABELS = 2  \n",
        "HIDDEN_LAYER_NEURONS = 50\n",
        "  \n",
        "task1a = Task1(NUM_LABELS, HIDDEN_LAYER_NEURONS, VOCAB_SIZE).cuda()\n",
        "# define a loss function and an optimizer\n",
        "loss_function1a = nn.NLLLoss()\n",
        "opt1a = torch.optim.SGD(task1a.parameters(), lr = 0.1)"
      ],
      "execution_count": 0,
      "outputs": []
    },
    {
      "metadata": {
        "colab_type": "text",
        "id": "3DkuVPRyX_Cv"
      },
      "cell_type": "markdown",
      "source": [
        "Setting model parameters for Task 1 B"
      ]
    },
    {
      "metadata": {
        "colab_type": "code",
        "id": "k4j-OQAvX_C9",
        "colab": {}
      },
      "cell_type": "code",
      "source": [
        "NUM_LABELS = 2  \n",
        "HIDDEN_LAYER_NEURONS = 100\n",
        "  \n",
        "task1b = Task1(NUM_LABELS, HIDDEN_LAYER_NEURONS, VOCAB_SIZE).cuda()\n",
        "# define a loss function and an optimizer\n",
        "loss_function1b = nn.NLLLoss()\n",
        "opt1b = torch.optim.SGD(task1b.parameters(), lr = 0.1)"
      ],
      "execution_count": 0,
      "outputs": []
    },
    {
      "metadata": {
        "colab_type": "text",
        "id": "mG5XNa6IYJxY"
      },
      "cell_type": "markdown",
      "source": [
        "Setting model parameters for Task 1 C"
      ]
    },
    {
      "metadata": {
        "colab_type": "code",
        "id": "FYxOD6sYYJxd",
        "colab": {}
      },
      "cell_type": "code",
      "source": [
        "NUM_LABELS = 2  \n",
        "HIDDEN_LAYER_NEURONS = 150\n",
        "  \n",
        "task1c = Task1(NUM_LABELS, HIDDEN_LAYER_NEURONS, VOCAB_SIZE).cuda()\n",
        "# define a loss function and an optimizer\n",
        "loss_function1c = nn.NLLLoss()\n",
        "opt1c = torch.optim.SGD(task1c.parameters(), lr = 0.1)"
      ],
      "execution_count": 0,
      "outputs": []
    },
    {
      "metadata": {
        "id": "Tdgm10ohW__r",
        "colab_type": "text"
      },
      "cell_type": "markdown",
      "source": [
        "#**Training for Task 1**"
      ]
    },
    {
      "metadata": {
        "id": "fAi16mE9YS4b",
        "colab_type": "text"
      },
      "cell_type": "markdown",
      "source": [
        "**Task 1 a**"
      ]
    },
    {
      "metadata": {
        "id": "BJHsSrF3hiG4",
        "colab_type": "text"
      },
      "cell_type": "markdown",
      "source": [
        "*TRAINING*"
      ]
    },
    {
      "metadata": {
        "id": "0eI_RB90kvjX",
        "colab_type": "code",
        "colab": {
          "base_uri": "https://localhost:8080/",
          "height": 105
        },
        "outputId": "674b9b23-5cad-4615-ba8e-27fcdd517df6"
      },
      "cell_type": "code",
      "source": [
        "task = train(task1a, loss_function1a, opt1a)\n",
        "calculateMetrics(task)\n",
        "save_model(task, 'model_1a.json')\n"
      ],
      "execution_count": 0,
      "outputs": [
        {
          "output_type": "stream",
          "text": [
            "/usr/local/lib/python3.6/dist-packages/ipykernel_launcher.py:9: UserWarning: Implicit dimension choice for softmax has been deprecated. Change the call to include dim=X as an argument.\n",
            "  if __name__ == '__main__':\n"
          ],
          "name": "stderr"
        },
        {
          "output_type": "stream",
          "text": [
            "Time Taken - 16.690893411636353\n",
            "Epoch - 0 , LOSS - tensor(-1., device='cuda:0')\n"
          ],
          "name": "stdout"
        }
      ]
    },
    {
      "metadata": {
        "colab_type": "text",
        "id": "4sNM2Y97v9Uc"
      },
      "cell_type": "markdown",
      "source": [
        "**Task 1 b**"
      ]
    },
    {
      "metadata": {
        "colab_type": "text",
        "id": "QMkFXCWdv56q"
      },
      "cell_type": "markdown",
      "source": [
        "*TRAINING*"
      ]
    },
    {
      "metadata": {
        "colab_type": "code",
        "id": "aHjwrSwmv56v",
        "colab": {}
      },
      "cell_type": "code",
      "source": [
        "task = train(task1b, loss_function1b, opt1b)\n",
        "calculateMetrics(task)\n",
        "save_model(task, 'model_1b.json')\n"
      ],
      "execution_count": 0,
      "outputs": []
    },
    {
      "metadata": {
        "colab_type": "text",
        "id": "Gy3ugE1qv-KE"
      },
      "cell_type": "markdown",
      "source": [
        "**Task 1 c**"
      ]
    },
    {
      "metadata": {
        "colab_type": "text",
        "id": "R4njkhDBv6bw"
      },
      "cell_type": "markdown",
      "source": [
        "*TRAINING*"
      ]
    },
    {
      "metadata": {
        "colab_type": "code",
        "id": "BexLEpzVv6b3",
        "colab": {}
      },
      "cell_type": "code",
      "source": [
        "task = train(task1a, loss_function1c, opt1c)\n",
        "calculateMetrics(task)\n",
        "save_model(task, 'model_1c.json')\n"
      ],
      "execution_count": 0,
      "outputs": []
    },
    {
      "metadata": {
        "colab_type": "text",
        "id": "aq524mr7MoBE"
      },
      "cell_type": "markdown",
      "source": [
        "#**Neural network for Task 2**"
      ]
    },
    {
      "metadata": {
        "colab_type": "code",
        "id": "ypC8WVQNMoBH",
        "colab": {}
      },
      "cell_type": "code",
      "source": [
        "class Task2(nn.Module):\n",
        "  def __init__(self, num_labels, hidden_layer_neurons1, hidden_layer_neurons2, vocab_size):\n",
        "    super(Task2, self).__init__()\n",
        "    self.lin1 = nn.Linear(vocab_size, hidden_layer_neurons1)\n",
        "    self.lin2 = nn.Linear(hidden_layer_neurons1, hidden_layer_neurons2)\n",
        "    self.lin3 = nn.Linear(hidden_layer_neurons2, num_labels)\n",
        "    \n",
        "  def forward(self, x):\n",
        "    out = self.lin1(x)\n",
        "    return F.softmax(self.lin3(self.lin2(out)))\n",
        "    "
      ],
      "execution_count": 0,
      "outputs": []
    },
    {
      "metadata": {
        "colab_type": "text",
        "id": "3PTPWy1tMoBP"
      },
      "cell_type": "markdown",
      "source": [
        "Setting model parameters for Task 2 A"
      ]
    },
    {
      "metadata": {
        "colab_type": "code",
        "id": "VEsBV7e0MoBR",
        "colab": {}
      },
      "cell_type": "code",
      "source": [
        "NUM_LABELS = 2  \n",
        "HIDDEN_LAYER_NEURONS1 = 10\n",
        "HIDDEN_LAYER_NEURONS2 = 10\n",
        "  \n",
        "task2a = Task2(NUM_LABELS, HIDDEN_LAYER_NEURONS1, HIDDEN_LAYER_NEURONS2, VOCAB_SIZE).cuda()\n",
        "# define a loss function and an optimizer\n",
        "loss_function2a = nn.NLLLoss()\n",
        "opt2a = torch.optim.SGD(task2a.parameters(), lr = 0.1)"
      ],
      "execution_count": 0,
      "outputs": []
    },
    {
      "metadata": {
        "colab_type": "text",
        "id": "BpMdnIJMNS3V"
      },
      "cell_type": "markdown",
      "source": [
        "Setting model parameters for Task 2 B"
      ]
    },
    {
      "metadata": {
        "colab_type": "code",
        "id": "h9QAy-XQNS3a",
        "colab": {}
      },
      "cell_type": "code",
      "source": [
        "NUM_LABELS = 2  \n",
        "HIDDEN_LAYER_NEURONS1 = 20\n",
        "HIDDEN_LAYER_NEURONS2 = 10\n",
        "  \n",
        "task2b = Task2(NUM_LABELS, HIDDEN_LAYER_NEURONS1, HIDDEN_LAYER_NEURONS2, VOCAB_SIZE).cuda()\n",
        "# define a loss function and an optimizer\n",
        "loss_function2b = nn.NLLLoss()\n",
        "opt2b = torch.optim.SGD(task2b.parameters(), lr = 0.1)"
      ],
      "execution_count": 0,
      "outputs": []
    },
    {
      "metadata": {
        "colab_type": "text",
        "id": "uRZ6LcbNNdUl"
      },
      "cell_type": "markdown",
      "source": [
        "Setting model parameters for Task 2 C"
      ]
    },
    {
      "metadata": {
        "colab_type": "code",
        "id": "W2J9yyHmNdUp",
        "colab": {}
      },
      "cell_type": "code",
      "source": [
        "NUM_LABELS = 2  \n",
        "HIDDEN_LAYER_NEURONS1 = 30\n",
        "HIDDEN_LAYER_NEURONS2 = 30\n",
        "  \n",
        "task2c = Task2(NUM_LABELS, HIDDEN_LAYER_NEURONS1, HIDDEN_LAYER_NEURONS2, VOCAB_SIZE).cuda()\n",
        "# define a loss function and an optimizer\n",
        "loss_function2c = nn.NLLLoss()\n",
        "opt2c = torch.optim.SGD(task2c.parameters(), lr = 0.1)"
      ],
      "execution_count": 0,
      "outputs": []
    },
    {
      "metadata": {
        "colab_type": "text",
        "id": "fjGIG33gNkbD"
      },
      "cell_type": "markdown",
      "source": [
        "Setting model parameters for Task 2 D"
      ]
    },
    {
      "metadata": {
        "colab_type": "code",
        "id": "guB7IDPoNkbG",
        "colab": {}
      },
      "cell_type": "code",
      "source": [
        "NUM_LABELS = 2  \n",
        "HIDDEN_LAYER_NEURONS1 = 50\n",
        "HIDDEN_LAYER_NEURONS2 = 50\n",
        "  \n",
        "task2d = Task2(NUM_LABELS, HIDDEN_LAYER_NEURONS1, HIDDEN_LAYER_NEURONS2, VOCAB_SIZE).cuda()\n",
        "# define a loss function and an optimizer\n",
        "loss_function2d = nn.NLLLoss()\n",
        "opt2d = torch.optim.SGD(task2d.parameters(), lr = 0.1)"
      ],
      "execution_count": 0,
      "outputs": []
    },
    {
      "metadata": {
        "colab_type": "text",
        "id": "OxaDf4fsNrH4"
      },
      "cell_type": "markdown",
      "source": [
        "Setting model parameters for Task 2 E"
      ]
    },
    {
      "metadata": {
        "colab_type": "code",
        "id": "aqmmjwR4NrIC",
        "colab": {}
      },
      "cell_type": "code",
      "source": [
        "NUM_LABELS = 2  \n",
        "HIDDEN_LAYER_NEURONS1 = 100\n",
        "HIDDEN_LAYER_NEURONS2 = 50\n",
        "  \n",
        "task2e = Task2(NUM_LABELS, HIDDEN_LAYER_NEURONS1, HIDDEN_LAYER_NEURONS2, VOCAB_SIZE).cuda()\n",
        "# define a loss function and an optimizer\n",
        "loss_function2e = nn.NLLLoss()\n",
        "opt2e = torch.optim.SGD(task2e.parameters(), lr = 0.1)"
      ],
      "execution_count": 0,
      "outputs": []
    },
    {
      "metadata": {
        "id": "cFpsSZ27JptA",
        "colab_type": "text"
      },
      "cell_type": "markdown",
      "source": [
        "#**Training for Task 2**"
      ]
    },
    {
      "metadata": {
        "colab_type": "text",
        "id": "wmyrJwnIwTmh"
      },
      "cell_type": "markdown",
      "source": [
        "**Task 2 a**"
      ]
    },
    {
      "metadata": {
        "colab_type": "text",
        "id": "4D4UuYvYwTmk"
      },
      "cell_type": "markdown",
      "source": [
        "*TRAINING*"
      ]
    },
    {
      "metadata": {
        "colab_type": "code",
        "id": "DeiIAKRBwTmu",
        "colab": {}
      },
      "cell_type": "code",
      "source": [
        "task = train(task2a, loss_function2a, opt2a)\n",
        "calculateMetrics(task)\n",
        "save_model(task, 'model_2a.json')\n"
      ],
      "execution_count": 0,
      "outputs": []
    },
    {
      "metadata": {
        "colab_type": "text",
        "id": "HmQXWu69wUS2"
      },
      "cell_type": "markdown",
      "source": [
        "**Task 2 b**"
      ]
    },
    {
      "metadata": {
        "colab_type": "text",
        "id": "C9HefqZhwUS6"
      },
      "cell_type": "markdown",
      "source": [
        "*TRAINING*"
      ]
    },
    {
      "metadata": {
        "colab_type": "code",
        "id": "XWLlzs9VwUS8",
        "colab": {}
      },
      "cell_type": "code",
      "source": [
        "task = train(task2b, loss_function2b, opt2b)\n",
        "calculateMetrics(task)\n",
        "save_model(task, 'model_2b.json')\n"
      ],
      "execution_count": 0,
      "outputs": []
    },
    {
      "metadata": {
        "colab_type": "text",
        "id": "icidGAIkwV7i"
      },
      "cell_type": "markdown",
      "source": [
        "**Task 2c**"
      ]
    },
    {
      "metadata": {
        "colab_type": "text",
        "id": "WxJQoiwfwV7l"
      },
      "cell_type": "markdown",
      "source": [
        "*TRAINING*"
      ]
    },
    {
      "metadata": {
        "colab_type": "code",
        "id": "3crABKPswV76",
        "colab": {}
      },
      "cell_type": "code",
      "source": [
        "task = train(task2c, loss_function2c, opt2c)\n",
        "calculateMetrics(task)\n",
        "save_model(task, 'model_2c.json')\n"
      ],
      "execution_count": 0,
      "outputs": []
    },
    {
      "metadata": {
        "colab_type": "text",
        "id": "GyGg6NdQwWig"
      },
      "cell_type": "markdown",
      "source": [
        "**Task 2 d**"
      ]
    },
    {
      "metadata": {
        "colab_type": "text",
        "id": "NgrbdrjKwWil"
      },
      "cell_type": "markdown",
      "source": [
        "*TRAINING*"
      ]
    },
    {
      "metadata": {
        "colab_type": "code",
        "id": "Tvu48eQxwWio",
        "colab": {}
      },
      "cell_type": "code",
      "source": [
        "task = train(task2d, loss_function2d, opt2d)\n",
        "calculateMetrics(task)\n",
        "save_model(task, 'model_2d.json')\n"
      ],
      "execution_count": 0,
      "outputs": []
    },
    {
      "metadata": {
        "colab_type": "text",
        "id": "0hfUJxqNwXGp"
      },
      "cell_type": "markdown",
      "source": [
        "**Task 2 e**"
      ]
    },
    {
      "metadata": {
        "colab_type": "text",
        "id": "O35rBH8LwXGw"
      },
      "cell_type": "markdown",
      "source": [
        "*TRAINING*"
      ]
    },
    {
      "metadata": {
        "colab_type": "code",
        "id": "E54KBM10wXGz",
        "colab": {}
      },
      "cell_type": "code",
      "source": [
        "task = train(task1a, loss_function2e, opt2e)\n",
        "calculateMetrics(task)\n",
        "save_model(task, 'model_2e.json')\n"
      ],
      "execution_count": 0,
      "outputs": []
    },
    {
      "metadata": {
        "colab_type": "text",
        "id": "U1nvWbPu3fNt"
      },
      "cell_type": "markdown",
      "source": [
        "#**Neural network for Task 3**"
      ]
    },
    {
      "metadata": {
        "colab_type": "code",
        "id": "x5yGKC3k3fN1",
        "colab": {}
      },
      "cell_type": "code",
      "source": [
        "class Task3(nn.Module):\n",
        "  def __init__(self, num_labels, hidden_layer_neurons1, hidden_layer_neurons2, hidden_layer_neurons3, vocab_size):\n",
        "    super(Task2, self).__init__()\n",
        "    self.lin1 = nn.Linear(vocab_size, hidden_layer_neurons1)\n",
        "    self.lin2 = nn.Linear(hidden_layer_neurons1, hidden_layer_neurons2)\n",
        "    self.lin3 = nn.Linear(hidden_layer_neurons2, num_labels)\n",
        "    self.lin4 = nn.Linear(hidden_layer_neurons3, num_labels)\n",
        "    \n",
        "  def forward(self, x):\n",
        "    out = self.lin1(x)\n",
        "    return F.softmax(self.lin4(self.lin3(self.lin2(out))))"
      ],
      "execution_count": 0,
      "outputs": []
    },
    {
      "metadata": {
        "colab_type": "text",
        "id": "InK4KfWr3fOA"
      },
      "cell_type": "markdown",
      "source": [
        "Setting model parameters for Task 3 A"
      ]
    },
    {
      "metadata": {
        "colab_type": "code",
        "id": "TWQTuAzA3fOG",
        "colab": {}
      },
      "cell_type": "code",
      "source": [
        "NUM_LABELS = 2  \n",
        "HIDDEN_LAYER_NEURONS1 = 100\n",
        "HIDDEN_LAYER_NEURONS2 = 50\n",
        "HIDDEN_LAYER_NEURONS3 = 10\n",
        "  \n",
        "task3a = Task2(NUM_LABELS, HIDDEN_LAYER_NEURONS1, HIDDEN_LAYER_NEURONS2, HIDDEN_LAYER_NEURONS3, VOCAB_SIZE).cuda()\n",
        "# define a loss function and an optimizer\n",
        "loss_function3a = nn.NLLLoss()\n",
        "opt3a = torch.optim.SGD(task3a.parameters(), lr = 0.1)"
      ],
      "execution_count": 0,
      "outputs": []
    },
    {
      "metadata": {
        "colab_type": "text",
        "id": "DYNUrHq-42LJ"
      },
      "cell_type": "markdown",
      "source": [
        "Setting model parameters for Task 3 B"
      ]
    },
    {
      "metadata": {
        "colab_type": "code",
        "id": "uWNkugVx42LP",
        "colab": {}
      },
      "cell_type": "code",
      "source": [
        "NUM_LABELS = 2  \n",
        "HIDDEN_LAYER_NEURONS1 = 200\n",
        "HIDDEN_LAYER_NEURONS2 = 100\n",
        "HIDDEN_LAYER_NEURONS3 = 10\n",
        "  \n",
        "task3b = Task2(NUM_LABELS, HIDDEN_LAYER_NEURONS1, HIDDEN_LAYER_NEURONS2, HIDDEN_LAYER_NEURONS3, VOCAB_SIZE).cuda()\n",
        "# define a loss function and an optimizer\n",
        "loss_function3b = nn.NLLLoss()\n",
        "opt3b = torch.optim.SGD(task3b.parameters(), lr = 0.1)"
      ],
      "execution_count": 0,
      "outputs": []
    },
    {
      "metadata": {
        "colab_type": "text",
        "id": "079wE3iL5FuU"
      },
      "cell_type": "markdown",
      "source": [
        "#**Training for Task 3**"
      ]
    },
    {
      "metadata": {
        "colab_type": "text",
        "id": "lwDYBc-z5Fue"
      },
      "cell_type": "markdown",
      "source": [
        "**Task 3 a**"
      ]
    },
    {
      "metadata": {
        "colab_type": "text",
        "id": "AjXSpNsk5Fui"
      },
      "cell_type": "markdown",
      "source": [
        "*TRAINING*"
      ]
    },
    {
      "metadata": {
        "colab_type": "code",
        "id": "GRqlxpxM5Fun",
        "colab": {}
      },
      "cell_type": "code",
      "source": [
        "task = train(task3a, loss_function3a, opt3a)\n",
        "calculateMetrics(task)\n",
        "save_model(task, 'model_3a.json')\n"
      ],
      "execution_count": 0,
      "outputs": []
    },
    {
      "metadata": {
        "colab_type": "text",
        "id": "Vjymw3pT5P25"
      },
      "cell_type": "markdown",
      "source": [
        "**Task 3 b**"
      ]
    },
    {
      "metadata": {
        "colab_type": "text",
        "id": "hefWONuA5P2-"
      },
      "cell_type": "markdown",
      "source": [
        "*TRAINING*"
      ]
    },
    {
      "metadata": {
        "colab_type": "code",
        "id": "iv_gqpTX5P3C",
        "colab": {}
      },
      "cell_type": "code",
      "source": [
        "task = train(task3b, loss_function3b, opt3b)\n",
        "calculateMetrics(task)\n",
        "save_model(task, 'model_3b.json')\n"
      ],
      "execution_count": 0,
      "outputs": []
    },
    {
      "metadata": {
        "id": "C5tLQ-kQksRk",
        "colab_type": "code",
        "colab": {}
      },
      "cell_type": "code",
      "source": [
        "from google.colab import files\n",
        "temp_test = files.upload()\n"
      ],
      "execution_count": 0,
      "outputs": []
    },
    {
      "metadata": {
        "id": "_BfeotFkp4_8",
        "colab_type": "code",
        "colab": {}
      },
      "cell_type": "code",
      "source": [
        "import torch\n",
        "bow = torch.load(io.BytesIO(temp_test['model.json']))"
      ],
      "execution_count": 0,
      "outputs": []
    },
    {
      "metadata": {
        "id": "AeGRHDybXVIH",
        "colab_type": "code",
        "colab": {}
      },
      "cell_type": "code",
      "source": [
        "from google.colab import files\n",
        "temp_test = files.upload()"
      ],
      "execution_count": 0,
      "outputs": []
    },
    {
      "metadata": {
        "id": "0-vkLqHTXWzg",
        "colab_type": "code",
        "colab": {}
      },
      "cell_type": "code",
      "source": [
        "pickle_in = open(\"word_to_ix.pickle\",\"rb\")\n",
        "word_to_ix = pickle.load(pickle_in)"
      ],
      "execution_count": 0,
      "outputs": []
    },
    {
      "metadata": {
        "id": "scWyKiVLL8Rh",
        "colab_type": "text"
      },
      "cell_type": "markdown",
      "source": [
        ""
      ]
    }
  ]
}